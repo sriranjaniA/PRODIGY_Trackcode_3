{
  "nbformat": 4,
  "nbformat_minor": 0,
  "metadata": {
    "colab": {
      "provenance": [],
      "authorship_tag": "ABX9TyMZRZw58Du4QrQOZQgTafxE",
      "include_colab_link": true
    },
    "kernelspec": {
      "name": "python3",
      "display_name": "Python 3"
    },
    "language_info": {
      "name": "python"
    }
  },
  "cells": [
    {
      "cell_type": "markdown",
      "metadata": {
        "id": "view-in-github",
        "colab_type": "text"
      },
      "source": [
        "<a href=\"https://colab.research.google.com/github/sriranjaniA/PRODIGY_Trackcode_3/blob/main/Text_generation_markov.ipynb\" target=\"_parent\"><img src=\"https://colab.research.google.com/assets/colab-badge.svg\" alt=\"Open In Colab\"/></a>"
      ]
    },
    {
      "cell_type": "code",
      "source": [
        "!pip install markovify"
      ],
      "metadata": {
        "colab": {
          "base_uri": "https://localhost:8080/"
        },
        "id": "tdBYKAjaTSgR",
        "outputId": "8ac1529a-1d01-4b9f-c626-76a13c1482e9"
      },
      "execution_count": 2,
      "outputs": [
        {
          "output_type": "stream",
          "name": "stdout",
          "text": [
            "Collecting markovify\n",
            "  Downloading markovify-0.9.4-py3-none-any.whl.metadata (23 kB)\n",
            "Collecting unidecode (from markovify)\n",
            "  Downloading Unidecode-1.4.0-py3-none-any.whl.metadata (13 kB)\n",
            "Downloading markovify-0.9.4-py3-none-any.whl (19 kB)\n",
            "Downloading Unidecode-1.4.0-py3-none-any.whl (235 kB)\n",
            "\u001b[2K   \u001b[90m━━━━━━━━━━━━━━━━━━━━━━━━━━━━━━━━━━━━━━━━\u001b[0m \u001b[32m235.8/235.8 kB\u001b[0m \u001b[31m6.2 MB/s\u001b[0m eta \u001b[36m0:00:00\u001b[0m\n",
            "\u001b[?25hInstalling collected packages: unidecode, markovify\n",
            "Successfully installed markovify-0.9.4 unidecode-1.4.0\n"
          ]
        }
      ]
    },
    {
      "cell_type": "code",
      "source": [
        "import markovify\n",
        "import random"
      ],
      "metadata": {
        "id": "9pN5CrepTXR7"
      },
      "execution_count": 3,
      "outputs": []
    },
    {
      "cell_type": "code",
      "source": [
        "with open(\"/content/pride.txt\", encoding='latin-1') as f:\n",
        "  text = f.read()\n",
        "\n",
        "  text_model = markovify.Text(text)"
      ],
      "metadata": {
        "id": "4Xlwxg7pUGsg"
      },
      "execution_count": 6,
      "outputs": []
    },
    {
      "cell_type": "code",
      "source": [
        "print( text_model.make_sentence() )"
      ],
      "metadata": {
        "colab": {
          "base_uri": "https://localhost:8080/"
        },
        "id": "Fkw46bSpUb-w",
        "outputId": "2f99b03f-98ed-421d-dc0c-4a041f73dfa3"
      },
      "execution_count": 7,
      "outputs": [
        {
          "output_type": "stream",
          "name": "stdout",
          "text": [
            "It generally associates in flocks, and when Miss Bingley saw all the under surface scarlet; cheeks white; feathers of the party.\n"
          ]
        }
      ]
    },
    {
      "cell_type": "code",
      "source": [
        "# generate a short sentence\n",
        "print(text_model.make_short_sentence(140))"
      ],
      "metadata": {
        "colab": {
          "base_uri": "https://localhost:8080/"
        },
        "id": "0xfjZg6GUeX6",
        "outputId": "1d6f13dd-1aae-4e1a-d4a3-8b207b74bd1f"
      },
      "execution_count": 8,
      "outputs": [
        {
          "output_type": "stream",
          "name": "stdout",
          "text": [
            "Are any of the front of the African members of the inner webs and largely tipped with yellow; tail deep green, all but the decayed wood.\n"
          ]
        }
      ]
    },
    {
      "cell_type": "code",
      "source": [
        "# build the model with a larger state size, then generate a sentence\n",
        "larger_state_text_model = markovify.Text(text, state_size=2)\n",
        "print( larger_state_text_model.make_sentence() )"
      ],
      "metadata": {
        "colab": {
          "base_uri": "https://localhost:8080/"
        },
        "id": "dnHeQBBDUjGi",
        "outputId": "1416b008-727d-4517-903a-5f5f66c17005"
      },
      "execution_count": 9,
      "outputs": [
        {
          "output_type": "stream",
          "name": "stdout",
          "text": [
            "Platycercus pileatus, Vig. in Proc. of Zool.\n"
          ]
        }
      ]
    },
    {
      "cell_type": "code",
      "source": [
        "for i in range(12):\n",
        "  print( larger_state_text_model.make_sentence() )"
      ],
      "metadata": {
        "colab": {
          "base_uri": "https://localhost:8080/"
        },
        "id": "JEZuZTv9UsWo",
        "outputId": "b08caad8-a3b6-4c88-f00d-75826d22d2bf"
      },
      "execution_count": 10,
      "outputs": [
        {
          "output_type": "stream",
          "name": "stdout",
          "text": [
            "She approached and saw them making signs of derision at each other, and buried at nearly an inch broad, upon which they civilly bestowed on each side, and all the compliment of saying something that might not spend my hours in running after my arrival at Sydney several specimens of it less than a young bird of the most destructive bird imaginable.\n",
            "It appeared to be thankful.\n",
            "I have not met the solicitation requirements, we know more of pain or of the officers, there was a something to live in Hertfordshire are not entitled to know that the misery she was the only objects of happiness which a pair of birds, whose range will be no occasion for your long, kind, satisfactory, detail of particulars; but to the discovery of others, were such as to a flock of adults, spreading out their beautiful silvery grey backs to the talents of one year old.\n",
            "I am exceedingly gratified, said Bingley, how young ladies in the centre, and margined with tawny brown; wings light ferruginous, with the basal portion of Australia in which her wishes since Jane united, with great intrepidity: Miss Elizabeth Bennet. As the length of wing which this elegant little Lorikeet has yet been ascertained, has been told by some of the forest to the former was divided between concern for the utterance of their inattention to what it was, he knew, intimately acquainted with all the letters before he had the same time, as showed an admiration of her choice, should be looked for a work or group of works on the very beginningfrom the first creature who could contain himself no longer, but that was only assertion.\n",
            "On the continent of Australia have been walking in the farm, Mr. Bennet, who was complimenting Mr. Bingley returned Mr. Bennets property consisted almost entirely to disregard the presence of mind!\n",
            "The figures are of the feathers of the smiles which overspread her face with her head ached acutely.\n",
            "Are you pleased with him. If we make haste, said Lydia, as they have known him ever since he might change his mind and one or two greater coverts deep red; cheeks, throat, and by the smaller size and form the principal part; a considerable degree of excellence than she expected.\n",
            "And to the date of the evil.\n",
            "Oh, yes!of that kind of pride must revolt from the ground was good; and she could strike into another might be any notice on either side.\n",
            "Mr. Bingley and her daughter. From an unwillingness to see two or three of whom assured me they had been formed, as he answered that he should stand his ground; yet he had received none since her being in town; and why not to have been the principal, if not quite so obstinate as usual.\n",
            "Mr. Gilbert show that it would ultimately have prevented the acknowledgment of your arrogance, your conceit, and your wit and vivacity; and though more guarded than formerly, persuaded Elizabeth, that I had known on first witnessing his altered behaviour in your advice to me again by letter for her might be supposed, to another man; and of the habits, manners, and nidification of course wanted more than she expected.\n",
            "My dear Lizzy, you must remember that four evenings have enabled them to Longbourn, and broke his apprehensions to us again. It is delicate, tender, and well-flavoured; but, like that of New South Wales.\n"
          ]
        }
      ]
    },
    {
      "cell_type": "code",
      "source": [
        "with open(\"/content/pride.txt\", encoding='latin-1') as f:\n",
        "  text = f.read()\n",
        "\n",
        "\n",
        "text_model = markovify.Text(text)"
      ],
      "metadata": {
        "id": "cJaaLdKlUuZX"
      },
      "execution_count": 11,
      "outputs": []
    },
    {
      "cell_type": "code",
      "source": [
        "print( text_model.make_sentence() )"
      ],
      "metadata": {
        "colab": {
          "base_uri": "https://localhost:8080/"
        },
        "id": "vwNzqtlHU090",
        "outputId": "45d77b5c-384c-4140-ef93-c891f68a60fe"
      },
      "execution_count": 12,
      "outputs": [
        {
          "output_type": "stream",
          "name": "stdout",
          "text": [
            "Most of the eldest, and another officer walked back with them, Mr. Bingley did not succeed in finding it there in the coach. Mrs. Gardiner were half a days journey.\n"
          ]
        }
      ]
    },
    {
      "cell_type": "code",
      "source": [
        "novel = ''\n",
        "while (len( novel.split(\" \")) < 500):\n",
        "  for i in range(random.randrange(3,9)):\n",
        "    novel += text_model.make_sentence() + \" \"\n",
        "  novel += \"\\n\\n\"\n",
        "    # print(text_model.make_sentence()\n",
        "\n",
        "print(novel)"
      ],
      "metadata": {
        "colab": {
          "base_uri": "https://localhost:8080/"
        },
        "id": "GDfLC1thU7Tw",
        "outputId": "6deb4228-4dde-403a-9788-dcad19e9c39b"
      },
      "execution_count": 13,
      "outputs": [
        {
          "output_type": "stream",
          "name": "stdout",
          "text": [
            "The general plumage brownish black, crossed by numerous irregular bands of black; abdomen and under surface scarlet; back of the Wonga-wonga, the noise of Mrs. Bennet and Lydia exclaimed. Although closely resembling in size and less anxiety to think it perfectly reasonable. Upon my word, I say no more here than I ever before been seen: in confirmation of this species have always supposed it to be toldthe history of this bird is preeminent both for their daughter, to announce her engagement to the arm a little curiosity, satisfied herself with such happy manners!so much ease, with such an opportunity occurred, for the neighbourhood were drooping apace. I have never seen before, of most of those who waited on those who are at all shake her purpose by his manner of our own vanity she had ever seen you together can doubt his affection. \n",
            "\n",
            "It was only fifteen, there was an excellent manager, I dare say it of them, and much to the match. Remember, Eliza, that it is merely adopted on his return as required some ingenuity to evade, and he bore it, and the same time it is well known to her. I pity, though I would try to influence him? That is exactly the case, being beautifully adapted to denude palm-nuts or other about it. But what is to maintain you when your sister must endure. One of the eggs may usually be seen in small troops of from ten to fifteen in number. He confessed himself obliged to give preference to others, for it gratified her exceedingly; the compliment of saying something that might not spend my hours in running after my arrival at Lambton; and this opened to them all, and this formidable introduction took place. \n",
            "\n",
            "The three figures in the colouring of the good-natured, gossiping Lucases. We acted with the attention. Mr. Hurst soon found that he was comparatively diffident since the refusal is repeated a second, or even require Jane to confess how much the matter is absolutely settled. Crown of the implacability of his lips till he entered the breakfast-room, and congratulated both him and Darcy determined, to be attached to and bearing down the smaller size and the week preceding it was time to exhibit. She could not have chosen better. It would appear to be idle, she would to any but him. Till this moment I never pay to any inaptitude for domestication on the ground, where it feeds upon the spot where I was ignorant of it? This roused a general resemblance to those on the abdomen; bill horn-colour; legs and feet dull brown. \n",
            "\n",
            "He thought too well known as places of resort for this place, that I come prepared to be pretty, but she checked herself. The children have been stated, I trust it does not know of any other of the female of P. eximius, ever attains the fine proportion and the female is, however, rather more precision the degree of contentment, to understand that her reputation is no other alteration than her sister, and gratified my vanity had taken him away, and Jane and Elizabeth, who was complimenting Mr. Bingley to see Darcy in anything, and persevered therefore in requiring an explanation of his thoughts. She has only one of the Platycerci. Lady Catherine determine what to make her understand her own health and their raptures continued, with little cessation, of his own; but, though she would have given the most violent against him was Mrs. Hurst, principally occupied in scratching up the sides of the chest being green instead of black. There is some sense in what manner she acceded to it. Though her brother and sister, that she would to any other I have known her again. Mrs. Bennet was among the high-flooded gums, or the Polygonum junceum. \n",
            "\n",
            "\n"
          ]
        }
      ]
    }
  ]
}